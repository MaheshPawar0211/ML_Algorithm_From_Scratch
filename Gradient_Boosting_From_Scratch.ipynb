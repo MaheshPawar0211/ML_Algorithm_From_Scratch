{
 "cells": [
  {
   "cell_type": "code",
   "execution_count": 51,
   "metadata": {},
   "outputs": [],
   "source": [
    "import matplotlib.pyplot as plt\n",
    "import numpy as np\n",
    "import pandas as pd\n",
    "from sklearn.datasets import load_boston\n",
    "from sklearn import preprocessing\n",
    "from sklearn.model_selection import train_test_split\n",
    "from sklearn.tree import DecisionTreeRegressor\n",
    "from sklearn.metrics import mean_squared_error as MSE"
   ]
  },
  {
   "cell_type": "code",
   "execution_count": 52,
   "metadata": {},
   "outputs": [],
   "source": [
    "boston_data = load_boston()\n",
    "X = pd.DataFrame(boston_data.data,columns=boston_data.feature_names)\n",
    "y = pd.Series(boston_data.target)\n",
    "X_train, X_test, y_train, y_test = train_test_split(X, y, test_size=0.3,random_state=123)"
   ]
  },
  {
   "cell_type": "code",
   "execution_count": 53,
   "metadata": {},
   "outputs": [
    {
     "data": {
      "text/plain": [
       "DecisionTreeRegressor(ccp_alpha=0.0, criterion='mse', max_depth=2,\n",
       "                      max_features=None, max_leaf_nodes=None,\n",
       "                      min_impurity_decrease=0.0, min_impurity_split=None,\n",
       "                      min_samples_leaf=1, min_samples_split=2,\n",
       "                      min_weight_fraction_leaf=0.0, presort='deprecated',\n",
       "                      random_state=2, splitter='best')"
      ]
     },
     "execution_count": 53,
     "metadata": {},
     "output_type": "execute_result"
    }
   ],
   "source": [
    "#############1st Tree of Gradient Boosting #####################################################\n",
    "#Initialize a decision tree with max_depth=2 and fit it on the training set as tree_1, \n",
    "First_tree_1 = DecisionTreeRegressor(max_depth=2, random_state=2)\n",
    "First_tree_1.fit(X_train, y_train)\n",
    "#predict method to tree_1 with X_train as the input:\n",
    "y_train_pred = First_tree_1.predict(X_train)\n",
    "# Find error in prediction\n",
    "Error_1st_Tree = y_train - y_train_pred\n",
    "\n",
    "#############2nd Tree of Gradient Boosting #####################################################\n",
    "#Initialize a new tree and fit it on X_train and the residuals, y2_train\n",
    "Second_tree_2 = DecisionTreeRegressor(max_depth=2, random_state=2)\n",
    "Second_tree_2.fit(X_train, Error_1st_Tree)\n",
    "#predict method to tree_2 with X_train as the input:\n",
    "y2_train_pred = Second_tree_2.predict(X_train)\n",
    "Error_2nd_train = Error_1st_Tree - y2_train_pred\n",
    "\n",
    "#############1st Tree of Gradient Boosting #####################################################\n",
    "#Initialize a new tree and fit it on X_train and the residuals, y3_train\n",
    "Third_tree_3 = DecisionTreeRegressor(max_depth=2, random_state=2)\n",
    "Third_tree_3.fit(X_train, y3_train)\n"
   ]
  },
  {
   "cell_type": "code",
   "execution_count": 54,
   "metadata": {},
   "outputs": [
    {
     "data": {
      "text/plain": [
       "5.338500741908513"
      ]
     },
     "execution_count": 54,
     "metadata": {},
     "output_type": "execute_result"
    }
   ],
   "source": [
    "# Sum the results of all 3 predictions\n",
    "First_Tree_pred = First_tree_1.predict(X_test)\n",
    "Second_Tree_pred = Second_tree_2.predict(X_test)\n",
    "Third_Tree_pred = Third_tree_3.predict(X_test)\n",
    "# Find average value of prediction\n",
    "y_pred = First_Tree_pred + Second_Tree_pred + Third_Tree_pred\n",
    "# mean squared error (MSE) \n",
    "MSE(y_test, y_pred)**0.5"
   ]
  }
 ],
 "metadata": {
  "kernelspec": {
   "display_name": "Python 3",
   "language": "python",
   "name": "python3"
  },
  "language_info": {
   "codemirror_mode": {
    "name": "ipython",
    "version": 3
   },
   "file_extension": ".py",
   "mimetype": "text/x-python",
   "name": "python",
   "nbconvert_exporter": "python",
   "pygments_lexer": "ipython3",
   "version": "3.7.6"
  }
 },
 "nbformat": 4,
 "nbformat_minor": 4
}
