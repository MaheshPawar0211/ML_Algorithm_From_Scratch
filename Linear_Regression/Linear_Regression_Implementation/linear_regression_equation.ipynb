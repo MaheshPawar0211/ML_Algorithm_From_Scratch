{
 "cells": [
  {
   "cell_type": "markdown",
   "metadata": {},
   "source": [
    "# Least Squares Estimation of the Parameters"
   ]
  },
  {
   "cell_type": "markdown",
   "metadata": {},
   "source": [
    "# Finding Equation for y=mx+c"
   ]
  },
  {
   "cell_type": "markdown",
   "metadata": {},
   "source": [
    "![alt text](lr1.png \"Title\")"
   ]
  },
  {
   "cell_type": "markdown",
   "metadata": {},
   "source": [
    "![alt text](lr2.png \"Title\")"
   ]
  },
  {
   "cell_type": "markdown",
   "metadata": {},
   "source": [
    "![alt text](lr3.png \"Title\")"
   ]
  },
  {
   "cell_type": "code",
   "execution_count": 52,
   "metadata": {},
   "outputs": [],
   "source": [
    "import pandas as pd\n",
    "import matplotlib.pyplot as plt"
   ]
  },
  {
   "cell_type": "code",
   "execution_count": 53,
   "metadata": {},
   "outputs": [],
   "source": [
    "df=pd.read_csv(\"rocket_dataset.csv\") "
   ]
  },
  {
   "cell_type": "code",
   "execution_count": 54,
   "metadata": {},
   "outputs": [
    {
     "data": {
      "text/html": [
       "<div>\n",
       "<style scoped>\n",
       "    .dataframe tbody tr th:only-of-type {\n",
       "        vertical-align: middle;\n",
       "    }\n",
       "\n",
       "    .dataframe tbody tr th {\n",
       "        vertical-align: top;\n",
       "    }\n",
       "\n",
       "    .dataframe thead th {\n",
       "        text-align: right;\n",
       "    }\n",
       "</style>\n",
       "<table border=\"1\" class=\"dataframe\">\n",
       "  <thead>\n",
       "    <tr style=\"text-align: right;\">\n",
       "      <th></th>\n",
       "      <th>x</th>\n",
       "      <th>y</th>\n",
       "    </tr>\n",
       "  </thead>\n",
       "  <tbody>\n",
       "    <tr>\n",
       "      <th>0</th>\n",
       "      <td>15.50</td>\n",
       "      <td>2158.70</td>\n",
       "    </tr>\n",
       "    <tr>\n",
       "      <th>1</th>\n",
       "      <td>23.75</td>\n",
       "      <td>1678.15</td>\n",
       "    </tr>\n",
       "    <tr>\n",
       "      <th>2</th>\n",
       "      <td>8.00</td>\n",
       "      <td>2316.00</td>\n",
       "    </tr>\n",
       "    <tr>\n",
       "      <th>3</th>\n",
       "      <td>17.00</td>\n",
       "      <td>2061.30</td>\n",
       "    </tr>\n",
       "    <tr>\n",
       "      <th>4</th>\n",
       "      <td>5.50</td>\n",
       "      <td>2207.50</td>\n",
       "    </tr>\n",
       "    <tr>\n",
       "      <th>5</th>\n",
       "      <td>19.00</td>\n",
       "      <td>1708.30</td>\n",
       "    </tr>\n",
       "    <tr>\n",
       "      <th>6</th>\n",
       "      <td>24.00</td>\n",
       "      <td>1784.70</td>\n",
       "    </tr>\n",
       "    <tr>\n",
       "      <th>7</th>\n",
       "      <td>2.50</td>\n",
       "      <td>2575.00</td>\n",
       "    </tr>\n",
       "    <tr>\n",
       "      <th>8</th>\n",
       "      <td>7.50</td>\n",
       "      <td>2357.90</td>\n",
       "    </tr>\n",
       "    <tr>\n",
       "      <th>9</th>\n",
       "      <td>11.00</td>\n",
       "      <td>2256.70</td>\n",
       "    </tr>\n",
       "    <tr>\n",
       "      <th>10</th>\n",
       "      <td>13.00</td>\n",
       "      <td>2165.20</td>\n",
       "    </tr>\n",
       "    <tr>\n",
       "      <th>11</th>\n",
       "      <td>3.75</td>\n",
       "      <td>2399.55</td>\n",
       "    </tr>\n",
       "    <tr>\n",
       "      <th>12</th>\n",
       "      <td>25.00</td>\n",
       "      <td>1799.80</td>\n",
       "    </tr>\n",
       "    <tr>\n",
       "      <th>13</th>\n",
       "      <td>9.75</td>\n",
       "      <td>2336.75</td>\n",
       "    </tr>\n",
       "    <tr>\n",
       "      <th>14</th>\n",
       "      <td>22.00</td>\n",
       "      <td>1765.30</td>\n",
       "    </tr>\n",
       "    <tr>\n",
       "      <th>15</th>\n",
       "      <td>18.00</td>\n",
       "      <td>2053.50</td>\n",
       "    </tr>\n",
       "    <tr>\n",
       "      <th>16</th>\n",
       "      <td>6.00</td>\n",
       "      <td>2414.40</td>\n",
       "    </tr>\n",
       "    <tr>\n",
       "      <th>17</th>\n",
       "      <td>12.50</td>\n",
       "      <td>2200.50</td>\n",
       "    </tr>\n",
       "    <tr>\n",
       "      <th>18</th>\n",
       "      <td>2.00</td>\n",
       "      <td>2654.20</td>\n",
       "    </tr>\n",
       "    <tr>\n",
       "      <th>19</th>\n",
       "      <td>21.50</td>\n",
       "      <td>1753.70</td>\n",
       "    </tr>\n",
       "  </tbody>\n",
       "</table>\n",
       "</div>"
      ],
      "text/plain": [
       "        x        y\n",
       "0   15.50  2158.70\n",
       "1   23.75  1678.15\n",
       "2    8.00  2316.00\n",
       "3   17.00  2061.30\n",
       "4    5.50  2207.50\n",
       "5   19.00  1708.30\n",
       "6   24.00  1784.70\n",
       "7    2.50  2575.00\n",
       "8    7.50  2357.90\n",
       "9   11.00  2256.70\n",
       "10  13.00  2165.20\n",
       "11   3.75  2399.55\n",
       "12  25.00  1799.80\n",
       "13   9.75  2336.75\n",
       "14  22.00  1765.30\n",
       "15  18.00  2053.50\n",
       "16   6.00  2414.40\n",
       "17  12.50  2200.50\n",
       "18   2.00  2654.20\n",
       "19  21.50  1753.70"
      ]
     },
     "execution_count": 54,
     "metadata": {},
     "output_type": "execute_result"
    }
   ],
   "source": [
    "df"
   ]
  },
  {
   "cell_type": "code",
   "execution_count": 55,
   "metadata": {},
   "outputs": [
    {
     "data": {
      "image/png": "[encoded data removed]",
      "text/plain": [
       "<Figure size 432x288 with 1 Axes>"
      ]
     },
     "metadata": {},
     "output_type": "display_data"
    }
   ],
   "source": [
    "df.plot(kind='scatter',x='x',y='y',color='red')\n",
    "plt.show()"
   ]
  },
  {
   "cell_type": "code",
   "execution_count": 63,
   "metadata": {},
   "outputs": [
    {
     "name": "stdout",
     "output_type": "stream",
     "text": [
      "n :-  20\n",
      "x_sum :- 267.25\n",
      "y_sum :- 42647.149999999994\n"
     ]
    }
   ],
   "source": [
    "n=len(df.x)\n",
    "x=df.x\n",
    "xy=df.x*df.y\n",
    "x_sum=df.x.sum()\n",
    "y_sum=df.y.sum()\n",
    "x_square=df['x']**2\n",
    "y_square=df['y']**2\n",
    "x_sqr_sum=x_square.sum()\n",
    "print(\"n :- \", n)\n",
    "print(\"x_sum :-\",x_sum)\n",
    "print(\"y_sum :-\",y_sum)"
   ]
  },
  {
   "cell_type": "markdown",
   "metadata": {},
   "source": [
    "# Solving Equarion 2.9"
   ]
  },
  {
   "cell_type": "code",
   "execution_count": 64,
   "metadata": {},
   "outputs": [
    {
     "name": "stdout",
     "output_type": "stream",
     "text": [
      "Sxy :- 1106.5593749999998\n"
     ]
    }
   ],
   "source": [
    "Sxx=x_sqr_sum-((x_sum**2)/n)\n",
    "print(\"Sxy :-\",Sxx)"
   ]
  },
  {
   "cell_type": "code",
   "execution_count": 65,
   "metadata": {},
   "outputs": [
    {
     "name": "stdout",
     "output_type": "stream",
     "text": [
      "Sxy :- -40879.90437499981\n"
     ]
    }
   ],
   "source": [
    "Sxy=(xy.sum())-((x_sum*y_sum)/n)\n",
    "print(\"Sxy :-\",Sxy)"
   ]
  },
  {
   "cell_type": "code",
   "execution_count": 66,
   "metadata": {},
   "outputs": [
    {
     "data": {
      "text/plain": [
       "528992.6375000001"
      ]
     },
     "execution_count": 66,
     "metadata": {},
     "output_type": "execute_result"
    }
   ],
   "source": [
    "xy.sum()"
   ]
  },
  {
   "cell_type": "code",
   "execution_count": 67,
   "metadata": {},
   "outputs": [
    {
     "name": "stdout",
     "output_type": "stream",
     "text": [
      "β1 :- -36.94325428764255\n"
     ]
    }
   ],
   "source": [
    "β1=Sxy/Sxx\n",
    "print(\"β1 :-\",β1)"
   ]
  },
  {
   "cell_type": "code",
   "execution_count": 68,
   "metadata": {},
   "outputs": [
    {
     "name": "stdout",
     "output_type": "stream",
     "text": [
      "β0 :- 2626.011735418623\n"
     ]
    }
   ],
   "source": [
    "β0=(y_sum/n)-(β1*(x_sum/n))\n",
    "print(\"β0 :-\",β0)"
   ]
  },
  {
   "cell_type": "code",
   "execution_count": 62,
   "metadata": {},
   "outputs": [],
   "source": [
    "yPre=β0+β1*x"
   ]
  },
  {
   "cell_type": "markdown",
   "metadata": {},
   "source": [
    "### Equation for Regression :- \n",
    "### Y=2626.011-36.943x"
   ]
  },
  {
   "cell_type": "code",
   "execution_count": 51,
   "metadata": {},
   "outputs": [
    {
     "data": {
      "text/plain": [
       "0     2053.391294\n",
       "1     1748.609446\n",
       "2     2330.465701\n",
       "3     1997.976413\n",
       "4     2422.823837\n",
       "5     1924.089904\n",
       "6     1739.373633\n",
       "7     2533.653600\n",
       "8     2348.937328\n",
       "9     2219.635938\n",
       "10    2145.749430\n",
       "11    2487.474532\n",
       "12    1702.430378\n",
       "13    2265.815006\n",
       "14    1813.260141\n",
       "15    1961.033158\n",
       "16    2404.352210\n",
       "17    2164.221057\n",
       "18    2552.125227\n",
       "19    1831.731768\n",
       "Name: x, dtype: float64"
      ]
     },
     "execution_count": 51,
     "metadata": {},
     "output_type": "execute_result"
    }
   ],
   "source": [
    "yPre"
   ]
  },
  {
   "cell_type": "markdown",
   "metadata": {},
   "source": [
    "# References :-\n",
    "1) Introduction to Linear Regression Analysis, 5th Edition (Douglas C. Montgomery, Elizabeth A. Peck, G. Geoffrey Vining)"
   ]
  },
  {
   "cell_type": "code",
   "execution_count": null,
   "metadata": {},
   "outputs": [],
   "source": []
  }
 ],
 "metadata": {
  "kernelspec": {
   "display_name": "Python [conda env:Anaconda3]",
   "language": "python",
   "name": "conda-env-Anaconda3-py"
  },
  "language_info": {
   "codemirror_mode": {
    "name": "ipython",
    "version": 3
   },
   "file_extension": ".py",
   "mimetype": "text/x-python",
   "name": "python",
   "nbconvert_exporter": "python",
   "pygments_lexer": "ipython3",
   "version": "3.6.5"
  }
 },
 "nbformat": 4,
 "nbformat_minor": 2
}
