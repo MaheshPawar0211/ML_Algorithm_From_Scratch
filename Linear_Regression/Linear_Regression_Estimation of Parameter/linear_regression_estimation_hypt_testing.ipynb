{
 "cells": [
  {
   "cell_type": "markdown",
   "metadata": {},
   "source": [
    "# Calculating different model estimators"
   ]
  },
  {
   "cell_type": "markdown",
   "metadata": {},
   "source": [
    "![alt text](lr4.png \"Title\")"
   ]
  },
  {
   "cell_type": "markdown",
   "metadata": {},
   "source": [
    "![alt text](lr5.png \"Title\")"
   ]
  },
  {
   "cell_type": "markdown",
   "metadata": {},
   "source": [
    "![alt text](lr6.png \"Title\")"
   ]
  },
  {
   "cell_type": "markdown",
   "metadata": {},
   "source": [
    "![alt text](lr7.png \"Title\")"
   ]
  },
  {
   "cell_type": "code",
   "execution_count": 6,
   "metadata": {},
   "outputs": [],
   "source": [
    "import pandas as pd\n",
    "import math\n",
    "import matplotlib.pyplot as plt\n",
    "\n",
    "df=pd.read_csv(\"rocket_dataset.csv\") \n",
    "n=len(df.x)\n",
    "x=df.x\n",
    "y=df.y\n",
    "xy=df.x*df.y\n",
    "x_sum=df.x.sum()\n",
    "y_sum=df.y.sum()\n",
    "x_square=df['x']**2\n",
    "y_square=df['y']**2\n",
    "x_sqr_sum=x_square.sum()\n",
    "Sxx=x_sqr_sum-((x_sum**2)/n)\n",
    "Sxy=(xy.sum())-((x_sum*y_sum)/n)\n",
    "β1=Sxy/Sxx\n",
    "β0=(y_sum/n)-(β1*(x_sum/n))\n",
    "yPre=β0+β1*x"
   ]
  },
  {
   "cell_type": "code",
   "execution_count": 7,
   "metadata": {},
   "outputs": [],
   "source": [
    "SSt=(y_square.sum())-((y.sum())**2)/n"
   ]
  },
  {
   "cell_type": "markdown",
   "metadata": {},
   "source": [
    "### From Equation 2.19"
   ]
  },
  {
   "cell_type": "code",
   "execution_count": 8,
   "metadata": {},
   "outputs": [],
   "source": [
    "SSres=SSt-(β1*Sxy)"
   ]
  },
  {
   "cell_type": "code",
   "execution_count": 9,
   "metadata": {},
   "outputs": [
    {
     "name": "stdout",
     "output_type": "stream",
     "text": [
      "σ2 :- 9434.366599715962\n"
     ]
    }
   ],
   "source": [
    "σ2=SSres/(n-2)\n",
    "print(\"σ2 :-\",σ2)"
   ]
  },
  {
   "cell_type": "markdown",
   "metadata": {},
   "source": [
    "# 2.3 HYPOTHESIS TESTING ON THE SLOPE AND INTERCEPT"
   ]
  },
  {
   "cell_type": "markdown",
   "metadata": {},
   "source": [
    "![alt text](lr8.png \"Title\")"
   ]
  },
  {
   "cell_type": "markdown",
   "metadata": {},
   "source": [
    "![alt text](lr9.png \"Title\")"
   ]
  },
  {
   "cell_type": "markdown",
   "metadata": {},
   "source": [
    "![alt text](lr10.png \"Title\")"
   ]
  },
  {
   "cell_type": "code",
   "execution_count": 11,
   "metadata": {},
   "outputs": [
    {
     "name": "stdout",
     "output_type": "stream",
     "text": [
      "Standard error of slope 2.9199069581673323\n"
     ]
    }
   ],
   "source": [
    "se_β1_bar=math.sqrt(σ2/Sxx)\n",
    "print(\"Standard error of slope\",se_β1_bar)"
   ]
  },
  {
   "cell_type": "code",
   "execution_count": 13,
   "metadata": {},
   "outputs": [
    {
     "name": "stdout",
     "output_type": "stream",
     "text": [
      "test statistic is :-  -12.652202558820516\n"
     ]
    }
   ],
   "source": [
    "t0=β1/se_β1_bar\n",
    "print(\"test statistic is :- \",t0)"
   ]
  },
  {
   "cell_type": "markdown",
   "metadata": {},
   "source": [
    "If we choose α = 0.05, the critical value of t is t0.025,18 = 2.101. Thus, we would reject H0: β1 = 0 and conclude that there is a linear relationship between shear strength and the age of the propellant."
   ]
  },
  {
   "cell_type": "markdown",
   "metadata": {},
   "source": [
    "# Calculating ANOVA table"
   ]
  },
  {
   "cell_type": "markdown",
   "metadata": {},
   "source": [
    "![alt text](lr11.png \"Title\")"
   ]
  },
  {
   "cell_type": "code",
   "execution_count": 17,
   "metadata": {},
   "outputs": [
    {
     "name": "stdout",
     "output_type": "stream",
     "text": [
      "Sum of squares for Regression :- 1510236.7025801293\n",
      "Sum of squares for Residual :- 169818.5987948873\n",
      "Total Sum of squares :- 1680055.3013750166\n"
     ]
    }
   ],
   "source": [
    "SSr=β1*Sxy\n",
    "print(\"Sum of squares for Regression :-\",SSr)\n",
    "SSres=SSt-SSr\n",
    "print(\"Sum of squares for Residual :-\",SSres)\n",
    "print(\"Total Sum of squares :-\",SSt)"
   ]
  },
  {
   "cell_type": "code",
   "execution_count": 18,
   "metadata": {},
   "outputs": [
    {
     "name": "stdout",
     "output_type": "stream",
     "text": [
      "F0:- 160.07822958942444\n"
     ]
    }
   ],
   "source": [
    "F0=SSr/σ2\n",
    "print(\"F0:-\",F0)"
   ]
  },
  {
   "cell_type": "markdown",
   "metadata": {},
   "source": [
    "# References :-\n",
    "1) Introduction to Linear Regression Analysis, 5th Edition (Douglas C. Montgomery, Elizabeth A. Peck, G. Geoffrey Vining)"
   ]
  },
  {
   "cell_type": "code",
   "execution_count": null,
   "metadata": {},
   "outputs": [],
   "source": []
  }
 ],
 "metadata": {
  "kernelspec": {
   "display_name": "Python [conda env:Anaconda3]",
   "language": "python",
   "name": "conda-env-Anaconda3-py"
  },
  "language_info": {
   "codemirror_mode": {
    "name": "ipython",
    "version": 3
   },
   "file_extension": ".py",
   "mimetype": "text/x-python",
   "name": "python",
   "nbconvert_exporter": "python",
   "pygments_lexer": "ipython3",
   "version": "3.6.5"
  }
 },
 "nbformat": 4,
 "nbformat_minor": 2
}
